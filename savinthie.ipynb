{
  "cells": [
    {
      "cell_type": "markdown",
      "metadata": {
        "id": "view-in-github",
        "colab_type": "text"
      },
      "source": [
        "<a href=\"https://colab.research.google.com/github/savinthie/Cook-Smart-SDGP-Project---Mercury---CS-25/blob/master/savinthie.ipynb\" target=\"_parent\"><img src=\"https://colab.research.google.com/assets/colab-badge.svg\" alt=\"Open In Colab\"/></a>"
      ]
    },
    {
      "cell_type": "code",
      "execution_count": null,
      "metadata": {
        "id": "WykaQNX-m6KZ"
      },
      "outputs": [],
      "source": [
        "import os\n",
        "import tensorflow as tf\n",
        "from tensorflow.keras.applications.mobilenet_v2 import MobileNetV2,preprocess_input\n",
        "from tensorflow.keras.layers import Dense,Conv2D,GlobalAvgPool2D,Input\n",
        "from tensorflow.keras import callbacks,optimizers\n",
        "import numpy as np\n",
        "from google.colab import drive"
      ]
    },
    {
      "cell_type": "code",
      "execution_count": null,
      "metadata": {
        "id": "BXr5c-YPm-tr",
        "colab": {
          "base_uri": "https://localhost:8080/"
        },
        "outputId": "66dd38ba-1162-46be-f1ce-6a55367b6fec"
      },
      "outputs": [
        {
          "output_type": "stream",
          "name": "stdout",
          "text": [
            "Mounted at /content/drive\n"
          ]
        }
      ],
      "source": [
        "#mounted the google drive\n",
        "from google.colab import drive\n",
        "drive.mount('/content/drive')"
      ]
    },
    {
      "cell_type": "code",
      "execution_count": null,
      "metadata": {
        "id": "Dqn6z6R-nEha",
        "colab": {
          "base_uri": "https://localhost:8080/"
        },
        "outputId": "5a11454d-2a35-41c2-9849-b2abcbf66880"
      },
      "outputs": [
        {
          "output_type": "stream",
          "name": "stdout",
          "text": [
            "/content/drive/MyDrive/SDGP Team Mercury/NewDataset/new_dataset\n"
          ]
        }
      ],
      "source": [
        "\n",
        "#changed the google drive path to the indian food image folder\n",
        "%cd /content/drive/MyDrive/SDGP Team Mercury/NewDataset/new_dataset/\n"
      ]
    },
    {
      "cell_type": "code",
      "execution_count": null,
      "metadata": {
        "id": "2WerRO_JnN31",
        "colab": {
          "base_uri": "https://localhost:8080/"
        },
        "outputId": "c9447965-c86b-486c-f2cd-f717e1bebb77"
      },
      "outputs": [
        {
          "output_type": "stream",
          "name": "stdout",
          "text": [
            "bhindi_masala\n",
            "poha\n",
            "chapati\n",
            "doodhpak\n",
            "sandesh\n",
            "imarti\n",
            "shrikhand\n",
            "biryani\n",
            "pootharekulu\n",
            "jalebi\n",
            "dal_makhani\n",
            "ras_malai\n",
            "chicken_tikka_masala\n",
            "kakinada_khaja\n",
            "poornalu\n",
            "dum_aloo\n",
            "dal_tadka\n",
            "adhirasam\n",
            "maach_jhol\n",
            "kajjikaya\n",
            "chicken_razala\n",
            "bhatura\n",
            "chikki\n",
            "chana_masala\n",
            "phirni\n",
            "kuzhi_paniyaram\n",
            "gavvalu\n",
            "cham_cham\n",
            "navrattan_korma\n",
            "double_ka_meetha\n",
            "misi_roti\n",
            "bandar_laddu\n",
            "aloo_shimla_mirch\n",
            "sohan_halwa\n",
            "pithe\n",
            "kadai_paneer\n",
            "shankarpali\n",
            "chak_hao_kheer\n",
            "daal_baati_churma\n",
            "paneer_butter_masala\n",
            "kadhi_pakoda\n",
            "aloo_gobi\n",
            "rabri\n",
            "chicken_tikka\n",
            "kalakand\n",
            "chhena_kheeri\n",
            "sutar_feni\n",
            "rasgulla\n",
            "sohan_papdi\n",
            "mysore_pak\n",
            "ledikeni\n",
            "dharwad_pedha\n",
            "lyangcha\n",
            "daal_puri\n",
            "sheera\n",
            "malapua\n",
            "kofta\n",
            "ghevar\n",
            "karela_bharta\n",
            "butter_chicken\n",
            "aloo_matar\n",
            "litti_chokha\n",
            "palak_paneer\n",
            "qubani_ka_meetha\n",
            "gulab_jamun\n",
            "boondi\n",
            "aloo_methi\n",
            "basundi\n",
            "kachori\n",
            "aloo_tikki\n",
            "lassi\n",
            "unni_appam\n",
            "makki_di_roti_sarson_da_saag\n",
            "sheer_korma\n",
            "naan\n",
            "anarsa\n",
            "misti_doi\n",
            "ariselu\n",
            "gajar_ka_halwa\n",
            "modak\n"
          ]
        }
      ],
      "source": [
        "#listing the 80 classes in the indian sub food image folder\n",
        "for x in os.listdir(\"Indian sub food \"):  \n",
        "  print(x)\n"
      ]
    },
    {
      "cell_type": "code",
      "execution_count": null,
      "metadata": {
        "id": "7-fZdGssnWc_"
      },
      "outputs": [],
      "source": [
        "#set  the path to new_dataset directory\n",
        "directory='/content/drive/MyDrive/SDGP Team Mercury/NewDataset/new_dataset/'"
      ]
    },
    {
      "cell_type": "code",
      "execution_count": null,
      "metadata": {
        "id": "EcixKmHjoXRc"
      },
      "outputs": [],
      "source": [
        "import pandas as pd\n"
      ]
    },
    {
      "cell_type": "code",
      "execution_count": null,
      "metadata": {
        "id": "BOYpScmKoaC0"
      },
      "outputs": [],
      "source": [
        "#read the data.csv file in the new_dataset folder\n",
        "datafile=pd.read_csv(directory+'data.csv')\n",
        "\n"
      ]
    },
    {
      "cell_type": "code",
      "execution_count": null,
      "metadata": {
        "id": "kvYapuxoocGd",
        "colab": {
          "base_uri": "https://localhost:8080/"
        },
        "outputId": "2d56e97c-f2f2-4aff-c3aa-ac08c040f09f"
      },
      "outputs": [
        {
          "output_type": "stream",
          "name": "stdout",
          "text": [
            "['adhirasam' 'aloo_gobi' 'aloo_matar' 'aloo_methi' 'aloo_shimla_mirch'\n",
            " 'aloo_tikki' 'anarsa' 'ariselu' 'bandar_laddu' 'basundi' 'bhatura'\n",
            " 'bhindi_masala' 'biryani' 'boondi' 'butter_chicken' 'chak_hao_kheer'\n",
            " 'cham_cham' 'chana_masala' 'chapati' 'chhena_kheeri' 'chicken_razala'\n",
            " 'chicken_tikka' 'chicken_tikka_masala' 'chikki' 'daal_baati_churma'\n",
            " 'daal_puri' 'dal_makhani' 'dal_tadka' 'dharwad_pedha' 'doodhpak'\n",
            " 'double_ka_meetha' 'dum_aloo' 'gajar_ka_halwa' 'gavvalu' 'ghevar'\n",
            " 'gulab_jamun' 'imarti' 'jalebi' 'kachori' 'kadai_paneer' 'kadhi_pakoda'\n",
            " 'kajjikaya' 'kakinada_khaja' 'kalakand' 'karela_bharta' 'kofta'\n",
            " 'kuzhi_paniyaram' 'lassi' 'ledikeni' 'litti_chokha' 'lyangcha'\n",
            " 'maach_jhol' 'makki_di_roti_sarson_da_saag' 'malapua' 'misi_roti'\n",
            " 'misti_doi' 'modak' 'mysore_pak' 'naan' 'navrattan_korma' 'palak_paneer'\n",
            " 'paneer_butter_masala' 'phirni' 'pithe' 'poha' 'poornalu' 'pootharekulu'\n",
            " 'qubani_ka_meetha' 'rabri' 'ras_malai' 'rasgulla' 'sandesh' 'shankarpali'\n",
            " 'sheer_korma' 'sheera' 'shrikhand' 'sohan_halwa' 'sohan_papdi'\n",
            " 'sutar_feni' 'unni_appam']\n"
          ]
        }
      ],
      "source": [
        "# printed the foodnames listed in the csv folder, can print the list of ingredients as well\n",
        "file_paths=datafile['foodName'].values\n",
        "print(file_paths)"
      ]
    },
    {
      "cell_type": "code",
      "execution_count": null,
      "metadata": {
        "id": "SP8CBBUyo1eZ"
      },
      "outputs": [],
      "source": [
        "##listed  the number of images in each class(food item)\n",
        "#for x in os.listdir(\"Indian sub food\"):\n",
        "  #print(x,len(os.listdir(\"Indian sub food/\"+x)))\n"
      ]
    },
    {
      "cell_type": "code",
      "execution_count": null,
      "metadata": {
        "id": "Zx-k5Hamrtk-"
      },
      "outputs": [],
      "source": [
        "try:\n",
        "#make a folder to train\n",
        "  os.mkdir(\"train\")\n",
        "#make a folder to\n",
        "  os.mkdir(\"test\")\n",
        "except:\n",
        "  pass\n",
        "for x in os.listdir(\"Indian sub food \"):\n",
        "  try:\n",
        "    os.mkdir(\"train/\"+x)# created a train directory path\n",
        "    os.mkdir(\"test/\"+x)# created a test directory path\n",
        "  except:\n",
        "    pass\n",
        "  for y in os.listdir(\"Indian sub food /\"+x)[:45]:#took the first 40 images of the folder to train\n",
        "    os.rename(\"Indian sub food /\"+x+\"/\"+y,\"train/\"+x+\"/\"+y)\n",
        "  for y in os.listdir(\"Indian sub food /\"+x)[:5]:#took the other images apart from the 40 images to test\n",
        "    os.rename(\"Indian sub food /\"+x+\"/\"+y,\"test/\"+x+\"/\"+y)  \n"
      ]
    },
    {
      "cell_type": "code",
      "execution_count": null,
      "metadata": {
        "id": "_TEZLXRswcNU"
      },
      "outputs": [],
      "source": []
    },
    {
      "cell_type": "code",
      "execution_count": null,
      "metadata": {
        "id": "ZST4IatYwhXc"
      },
      "outputs": [],
      "source": [
        "from tensorflow.keras.preprocessing.image import load_img,ImageDataGenerator"
      ]
    },
    {
      "cell_type": "code",
      "execution_count": null,
      "metadata": {
        "id": "ZnROiHcz7skD",
        "colab": {
          "base_uri": "https://localhost:8080/"
        },
        "outputId": "3ef0995e-0994-4292-93a0-8462ebdb91f6"
      },
      "outputs": [
        {
          "output_type": "stream",
          "name": "stdout",
          "text": [
            "adhirasam\t      dal_tadka\t\t\t    misi_roti\n",
            "aloo_gobi\t      dharwad_pedha\t\t    misti_doi\n",
            "aloo_matar\t      doodhpak\t\t\t    modak\n",
            "aloo_methi\t      double_ka_meetha\t\t    mysore_pak\n",
            "aloo_shimla_mirch     dum_aloo\t\t\t    naan\n",
            "aloo_tikki\t      gajar_ka_halwa\t\t    navrattan_korma\n",
            "anarsa\t\t      gavvalu\t\t\t    palak_paneer\n",
            "ariselu\t\t      ghevar\t\t\t    paneer_butter_masala\n",
            "bandar_laddu\t      gulab_jamun\t\t    phirni\n",
            "basundi\t\t      imarti\t\t\t    pithe\n",
            "bhatura\t\t      jalebi\t\t\t    poha\n",
            "bhindi_masala\t      kachori\t\t\t    poornalu\n",
            "biryani\t\t      kadai_paneer\t\t    pootharekulu\n",
            "boondi\t\t      kadhi_pakoda\t\t    qubani_ka_meetha\n",
            "butter_chicken\t      kajjikaya\t\t\t    rabri\n",
            "chak_hao_kheer\t      kakinada_khaja\t\t    rasgulla\n",
            "cham_cham\t      kalakand\t\t\t    ras_malai\n",
            "chana_masala\t      karela_bharta\t\t    sandesh\n",
            "chapati\t\t      kofta\t\t\t    shankarpali\n",
            "chhena_kheeri\t      kuzhi_paniyaram\t\t    sheera\n",
            "chicken_razala\t      lassi\t\t\t    sheer_korma\n",
            "chicken_tikka\t      ledikeni\t\t\t    shrikhand\n",
            "chicken_tikka_masala  litti_chokha\t\t    sohan_halwa\n",
            "chikki\t\t      lyangcha\t\t\t    sohan_papdi\n",
            "daal_baati_churma     maach_jhol\t\t    sutar_feni\n",
            "daal_puri\t      makki_di_roti_sarson_da_saag  unni_appam\n",
            "dal_makhani\t      malapua\n"
          ]
        }
      ],
      "source": [
        "!ls test"
      ]
    },
    {
      "cell_type": "code",
      "execution_count": null,
      "metadata": {
        "id": "oizUl3UfALHh"
      },
      "outputs": [],
      "source": [
        "gen_object=ImageDataGenerator()"
      ]
    },
    {
      "cell_type": "code",
      "execution_count": null,
      "metadata": {
        "id": "IIRIwwCP7-dt"
      },
      "outputs": [],
      "source": [
        "def img_Data(directory,target_size,batch,class_lst,variableprocessing):\n",
        "  if variableprocessing:\n",
        "    gen_object=ImageDataGenerator(preprocessing_function=variableprocessing)\n",
        "  else:\n",
        "    gen_object=ImageDataGenerator()\n",
        "\n",
        "  return(gen_object.flow_from_directory(directory,target_size=target_size,batch_size=batch,class_mode='sparse',classes=class_lst,shuffle=True))  "
      ]
    },
    {
      "cell_type": "code",
      "execution_count": null,
      "metadata": {
        "id": "w1Z63UAn-iTk",
        "colab": {
          "base_uri": "https://localhost:8080/"
        },
        "outputId": "dcde8947-bdaa-4174-b244-10c36c3b79c8"
      },
      "outputs": [
        {
          "output_type": "stream",
          "name": "stdout",
          "text": [
            "Found 3630 images belonging to 80 classes.\n",
            "Found 400 images belonging to 80 classes.\n"
          ]
        }
      ],
      "source": [
        "train_data_gen=img_Data(\"train\",(224,224),500,os.listdir(\"train\"),preprocess_input)\n",
        "valid_data_gen=img_Data(\"test\",(224,224),500,os.listdir(\"test\"),preprocess_input)"
      ]
    },
    {
      "cell_type": "code",
      "execution_count": null,
      "metadata": {
        "id": "_sQrxA8_-402",
        "colab": {
          "base_uri": "https://localhost:8080/"
        },
        "outputId": "dd388579-77f2-4206-d6a2-323b42809110"
      },
      "outputs": [
        {
          "output_type": "stream",
          "name": "stdout",
          "text": [
            "Downloading data from https://storage.googleapis.com/tensorflow/keras-applications/mobilenet_v2/mobilenet_v2_weights_tf_dim_ordering_tf_kernels_1.0_224_no_top.h5\n",
            "9406464/9406464 [==============================] - 0s 0us/step\n"
          ]
        }
      ],
      "source": [
        "base_model=tf.keras.applications.mobilenet_v2.MobileNetV2(\n",
        "    input_shape=(224,224,3),\n",
        "    alpha=1.0,\n",
        "    include_top=False,\n",
        "    weights='imagenet',\n",
        "    input_tensor=None,\n",
        "    pooling=None,\n",
        "    classes=1000,\n",
        "    classifier_activation='softmax')"
      ]
    },
    {
      "cell_type": "code",
      "source": [
        "\n",
        "\n",
        "\n",
        "\n"
      ],
      "metadata": {
        "id": "iAXeweaPCkMd"
      },
      "execution_count": null,
      "outputs": []
    },
    {
      "cell_type": "code",
      "source": [],
      "metadata": {
        "id": "SXcxbcBNDV42",
        "colab": {
          "base_uri": "https://localhost:8080/"
        },
        "outputId": "073aeb66-5717-4b01-f9a6-bde0672cbdd6"
      },
      "execution_count": null,
      "outputs": [
        {
          "output_type": "stream",
          "name": "stdout",
          "text": [
            "Downloading data from https://storage.googleapis.com/tensorflow/keras-applications/vgg16/vgg16_weights_tf_dim_ordering_tf_kernels_notop.h5\n",
            "58889256/58889256 [==============================] - 0s 0us/step\n"
          ]
        }
      ]
    },
    {
      "cell_type": "code",
      "source": [],
      "metadata": {
        "id": "cCmfPGKCEdqu"
      },
      "execution_count": null,
      "outputs": []
    },
    {
      "cell_type": "code",
      "execution_count": null,
      "metadata": {
        "id": "b2LXOB5gCCQ_"
      },
      "outputs": [],
      "source": [
        "base_model.trainable=False#to prevent the base model from training"
      ]
    },
    {
      "cell_type": "code",
      "execution_count": null,
      "metadata": {
        "id": "u8dLKBxdCZem"
      },
      "outputs": [],
      "source": [
        "import tensorflow as tf\n",
        "model=tf.keras.models.Sequential()\n",
        "model.add(base_model)#adding the base model\n",
        "\n",
        "model.add(GlobalAvgPool2D())#adding the additional dense layers\n",
        "model.add(Dense(1024,activation='relu'))\n",
        "model.add(Dense(80,activation='softmax'))\n",
        "\n",
        "model.compile(optimizer='adam',loss='sparse_categorical_crossentropy',metrics=['accuracy'])\n"
      ]
    },
    {
      "cell_type": "code",
      "execution_count": null,
      "metadata": {
        "id": "DszGXhM4C_go",
        "colab": {
          "base_uri": "https://localhost:8080/"
        },
        "outputId": "cfbd4d79-6909-4d15-c513-ab59e060452f"
      },
      "outputs": [
        {
          "output_type": "stream",
          "name": "stdout",
          "text": [
            "Model: \"sequential_2\"\n",
            "_________________________________________________________________\n",
            " Layer (type)                Output Shape              Param #   \n",
            "=================================================================\n",
            " vgg16 (Functional)          (None, 7, 7, 512)         14714688  \n",
            "                                                                 \n",
            " global_average_pooling2d_1   (None, 512)              0         \n",
            " (GlobalAveragePooling2D)                                        \n",
            "                                                                 \n",
            " dense_2 (Dense)             (None, 1024)              525312    \n",
            "                                                                 \n",
            " dense_3 (Dense)             (None, 80)                82000     \n",
            "                                                                 \n",
            "=================================================================\n",
            "Total params: 15,322,000\n",
            "Trainable params: 607,312\n",
            "Non-trainable params: 14,714,688\n",
            "_________________________________________________________________\n"
          ]
        }
      ],
      "source": [
        "model.summary()"
      ]
    },
    {
      "cell_type": "code",
      "execution_count": null,
      "metadata": {
        "id": "YDvXAWNcDDmT"
      },
      "outputs": [],
      "source": [
        "elst = callbacks.EarlyStopping(monitor='val_loss',patience=5,mode='min')\n",
        "save_ck=callbacks.ModelCheckpoint('.mdl_wt.hdf5',save_best_only=True,monitor='val_loss',mode='min')"
      ]
    },
    {
      "cell_type": "code",
      "execution_count": null,
      "metadata": {
        "id": "Y4nohRsdGUAB",
        "colab": {
          "base_uri": "https://localhost:8080/"
        },
        "outputId": "b03b623e-c28a-4e77-d416-144298a84a1b"
      },
      "outputs": [
        {
          "output_type": "stream",
          "name": "stdout",
          "text": [
            "Epoch 1/10\n"
          ]
        }
      ],
      "source": [
        "model.fit(train_data_gen,batch_size=500,validation_data=valid_data_gen,callbacks=[elst,save_ck],epochs=10)"
      ]
    },
    {
      "cell_type": "code",
      "source": [],
      "metadata": {
        "id": "MmDHindHAasC"
      },
      "execution_count": null,
      "outputs": []
    }
  ],
  "metadata": {
    "colab": {
      "provenance": [],
      "authorship_tag": "ABX9TyMcLg/sgiyaiKPInyTBtmt3",
      "include_colab_link": true
    },
    "kernelspec": {
      "display_name": "Python 3",
      "name": "python3"
    },
    "language_info": {
      "name": "python"
    }
  },
  "nbformat": 4,
  "nbformat_minor": 0
}