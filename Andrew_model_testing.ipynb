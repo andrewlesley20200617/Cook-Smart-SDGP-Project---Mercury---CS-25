{
  "cells": [
    {
      "cell_type": "markdown",
      "metadata": {
        "id": "view-in-github",
        "colab_type": "text"
      },
      "source": [
        "<a href=\"https://colab.research.google.com/github/savinthie/Cook-Smart-SDGP-Project---Mercury---CS-25/blob/master/Andrew_model_testing.ipynb\" target=\"_parent\"><img src=\"https://colab.research.google.com/assets/colab-badge.svg\" alt=\"Open In Colab\"/></a>"
      ]
    },
    {
      "cell_type": "code",
      "execution_count": null,
      "metadata": {
        "id": "rEjh8u59q1qx"
      },
      "outputs": [],
      "source": [
        "import os\n",
        "import tensorflow as tf\n",
        "from tensorflow.keras.applications.mobilenet_v2 import MobileNetV2, preprocess_input\n",
        "from tensorflow.keras.layers import Dense, Conv2D, GlobalAvgPool2D , Input\n",
        "from tensorflow.keras.preprocessing.image import load_img, ImageDataGenerator\n",
        "from tensorflow.keras import callbacks, optimizers\n",
        "import numpy as np\n",
        "\n"
      ]
    },
    {
      "cell_type": "code",
      "execution_count": null,
      "metadata": {
        "colab": {
          "base_uri": "https://localhost:8080/"
        },
        "id": "QCQpa7KssKh4",
        "outputId": "a7aaf6cf-26c1-454c-dcd1-edbfcdf9bca0"
      },
      "outputs": [
        {
          "output_type": "stream",
          "name": "stdout",
          "text": [
            "Drive already mounted at /content/drive; to attempt to forcibly remount, call drive.mount(\"/content/drive\", force_remount=True).\n"
          ]
        }
      ],
      "source": [
        "from google.colab import drive\n",
        "drive.mount('/content/drive')"
      ]
    },
    {
      "cell_type": "code",
      "execution_count": null,
      "metadata": {
        "colab": {
          "base_uri": "https://localhost:8080/"
        },
        "id": "z8tWYCEvvixt",
        "outputId": "124e0d62-f973-449a-c928-332688e89e01"
      },
      "outputs": [
        {
          "output_type": "stream",
          "name": "stdout",
          "text": [
            "/content/drive/MyDrive/new_dataset/Indian Food Images\n"
          ]
        }
      ],
      "source": [
        "%cd /content/drive/MyDrive/new_dataset/Indian Food Images\n",
        "\n",
        "dir_path = \"/content/drive/MyDrive/new_dataset/Indian_Food_Images\""
      ]
    },
    {
      "cell_type": "code",
      "execution_count": null,
      "metadata": {
        "id": "n_jeRiQaNyF_",
        "colab": {
          "base_uri": "https://localhost:8080/"
        },
        "outputId": "35bae074-d661-42d1-b101-86bc803bd37e"
      },
      "outputs": [
        {
          "output_type": "stream",
          "name": "stdout",
          "text": [
            "sheera 0\n",
            "shrikhand 0\n",
            "sandesh 0\n",
            "unni_appam 0\n",
            "shankarpali 0\n",
            "sutar_feni 0\n",
            "sohan_halwa 0\n",
            "sheer_korma 10\n",
            "ras_malai 0\n",
            "sohan_papdi 0\n",
            "rasgulla 0\n",
            "rabri 0\n",
            "qubani_ka_meetha 0\n",
            "navrattan_korma 0\n",
            "poha 0\n",
            "pootharekulu 0\n",
            "palak_paneer 10\n",
            "pithe 0\n",
            "poornalu 0\n",
            "paneer_butter_masala 0\n",
            "naan 0\n",
            "mysore_pak 0\n",
            "phirni 0\n",
            "modak 0\n",
            "kuzhi_paniyaram 0\n",
            "misi_roti 0\n",
            "ledikeni 0\n",
            "litti_chokha 0\n",
            "misti_doi 0\n",
            "lassi 0\n",
            "lyangcha 0\n",
            "makki_di_roti_sarson_da_saag 10\n",
            "maach_jhol 0\n",
            "malapua 0\n",
            "kofta 0\n",
            "kadai_paneer 0\n",
            "kakinada_khaja 0\n",
            "kadhi_pakoda 0\n",
            "imarti 0\n",
            "jalebi 0\n",
            "kachori 0\n",
            "kalakand 0\n",
            "karela_bharta 0\n",
            "kajjikaya 0\n",
            "gulab_jamun 0\n",
            "ghevar 0\n",
            "daal_puri 0\n",
            "dum_aloo 0\n",
            "doodhpak 0\n",
            "gavvalu 0\n",
            "gajar_ka_halwa 0\n",
            "dal_tadka 0\n",
            "dharwad_pedha 0\n",
            "dal_makhani 0\n",
            "double_ka_meetha 0\n",
            "daal_baati_churma 0\n",
            "chhena_kheeri 0\n",
            "chicken_tikka 0\n",
            "chikki 0\n",
            "chak_hao_kheer 0\n",
            "cham_cham 0\n",
            "chana_masala 0\n",
            "chapati 0\n",
            "chicken_razala 0\n",
            "chicken_tikka_masala 0\n",
            "butter_chicken 0\n",
            "boondi 0\n",
            "biryani 0\n",
            "ariselu 0\n",
            "anarsa 0\n",
            "bandar_laddu 0\n",
            "bhindi_masala 0\n",
            "aloo_shimla_mirch 0\n",
            "basundi 0\n",
            "bhatura 0\n",
            "aloo_tikki 0\n",
            "aloo_methi 0\n",
            "aloo_gobi 0\n",
            "adhirasam 0\n",
            "aloo_matar 0\n"
          ]
        }
      ],
      "source": [
        "for i in os.listdir(\"Indian sub food\"):\n",
        "  print(i,len(os.listdir(\"Indian sub food/\"+i)))"
      ]
    },
    {
      "cell_type": "code",
      "execution_count": null,
      "metadata": {
        "id": "gPfDj9Ur5cmZ"
      },
      "outputs": [],
      "source": [
        "try:\n",
        "  os.mkdir(\"train\")\n",
        "  os.mkdir(\"test\")\n",
        "\n",
        "except:\n",
        "  pass\n",
        "for i in os.listdir(\"Indian sub food\"):\n",
        "  try:\n",
        "    os.mkdir(\"train/\"+i)\n",
        "    os.mkdir(\"test/\"+i)\n",
        "  except:\n",
        "    pass\n",
        "  for j in os.listdir(\"Indian sub food/\"+i)[:40]:\n",
        "    os.rename(\"Indian sub food/\"+i+\"/\"+j, \"train/\"+ i+\"/\"+j)\n",
        "  for j in os.listdir(\"Indian sub food/\"+i)[:10]:\n",
        "    os.rename(\"Indian sub food/\"+i+\"/\"+j, \"test/\"+i+\"/\"+j)"
      ]
    },
    {
      "cell_type": "code",
      "execution_count": null,
      "metadata": {
        "id": "riu8f1H19NIh"
      },
      "outputs": [],
      "source": [
        "def img_Data(dir_path,target_size,batch,class_lst,preprocessing,):\n",
        "  if preprocessing:\n",
        "    gen_object = ImageDataGenerator(preprocessing_function=preprocessing)\n",
        "  else:\n",
        "    gen_object = ImageDataGenerator()\n",
        "\n",
        "  return(gen_object.flow_from_directory(dir_path,\n",
        "                                  target_size =target_size,\n",
        "                                  batch_size = batch,\n",
        "                                  class_mode =\"sparse\", \n",
        "                                  classes = class_lst,\n",
        "                                  shuffle = True))\n"
      ]
    },
    {
      "cell_type": "code",
      "execution_count": null,
      "metadata": {
        "colab": {
          "base_uri": "https://localhost:8080/"
        },
        "id": "aqj3VNTEAwHT",
        "outputId": "1f345939-1c34-4f74-a4f7-dbd9e41c7da0"
      },
      "outputs": [
        {
          "output_type": "stream",
          "name": "stdout",
          "text": [
            "Found 3240 images belonging to 80 classes.\n",
            "Found 790 images belonging to 80 classes.\n"
          ]
        }
      ],
      "source": [
        "train_data_gen = img_Data(\"train\",(224,224),500,os.listdir(\"train\"),preprocess_input)\n",
        "valid_data_gen = img_Data(\"test\",(224,224),500,os.listdir(\"test\"),preprocess_input)\n"
      ]
    },
    {
      "cell_type": "code",
      "execution_count": null,
      "metadata": {
        "colab": {
          "base_uri": "https://localhost:8080/"
        },
        "id": "c4mFSfa9DcEs",
        "outputId": "53d4100d-7c2a-480f-963e-fb106c723944"
      },
      "outputs": [
        {
          "output_type": "stream",
          "name": "stderr",
          "text": [
            "WARNING:tensorflow:`input_shape` is undefined or non-square, or `rows` is not in [96, 128, 160, 192, 224]. Weights for input shape (224, 224) will be loaded as the default.\n"
          ]
        },
        {
          "output_type": "stream",
          "name": "stdout",
          "text": [
            "Downloading data from https://storage.googleapis.com/tensorflow/keras-applications/mobilenet_v2/mobilenet_v2_weights_tf_dim_ordering_tf_kernels_1.0_224_no_top.h5\n",
            "9406464/9406464 [==============================] - 0s 0us/step\n"
          ]
        }
      ],
      "source": [
        "base_model = tf.keras.applications.MobileNetV2(\n",
        "    input_shape = (224,244,3), alpha = 1.0, include_top = False, weights = \"imagenet\",\n",
        "    input_tensor = None , pooling = None, classes = 1000,\n",
        "    classifier_activation = \"softmax\")"
      ]
    },
    {
      "cell_type": "code",
      "execution_count": null,
      "metadata": {
        "id": "KAIWB06tFvzB"
      },
      "outputs": [],
      "source": [
        "base_model.trainable = False"
      ]
    },
    {
      "cell_type": "code",
      "execution_count": null,
      "metadata": {
        "id": "rIKqieI9GC8d"
      },
      "outputs": [],
      "source": [
        "model = tf.keras.models.Sequential()\n",
        "model.add(base_model)\n",
        "model.add(GlobalAvgPool2D())\n",
        "model.add(Dense(1024,activation = \"relu\"))\n",
        "model.add(Dense(80,activation = \"softmax\"))\n",
        "\n",
        "model.compile(optimizer =\"adam\", \n",
        "              loss=\"sparse_categorical_crossentropy\",\n",
        "              metrics =[\"accuracy\"])\n"
      ]
    },
    {
      "cell_type": "code",
      "execution_count": null,
      "metadata": {
        "id": "k2K3D9FUGN6N"
      },
      "outputs": [],
      "source": [
        "elst = callbacks.EarlyStopping(monitor = \"val_loss\", patience=5 ,mode =\"min\")\n",
        "save_ck= callbacks.ModelCheckpoint(\".mdl_wt.hdf5\", save_best_only = True, monitor = \"val_loss\", mode= \"min\")\n"
      ]
    },
    {
      "cell_type": "code",
      "execution_count": null,
      "metadata": {
        "colab": {
          "base_uri": "https://localhost:8080/"
        },
        "id": "_qiu2jBxPvhG",
        "outputId": "51a338bc-33db-4b0f-85ff-bea3085050d1"
      },
      "outputs": [
        {
          "output_type": "stream",
          "name": "stdout",
          "text": [
            "Epoch 1/20\n",
            "7/7 [==============================] - 688s 95s/step - loss: 3.8896 - accuracy: 0.1355 - val_loss: 3.0297 - val_accuracy: 0.3013\n",
            "Epoch 2/20\n",
            "7/7 [==============================] - 281s 40s/step - loss: 2.2293 - accuracy: 0.4960 - val_loss: 2.2838 - val_accuracy: 0.3987\n",
            "Epoch 3/20\n",
            "7/7 [==============================] - 282s 41s/step - loss: 1.4434 - accuracy: 0.6438 - val_loss: 1.9869 - val_accuracy: 0.4684\n",
            "Epoch 4/20\n",
            "1/7 [===>..........................] - ETA: 2:06 - loss: 1.0762 - accuracy: 0.7500"
          ]
        }
      ],
      "source": [
        "model.fit(train_data_gen,batch_size = 500, validation_data=valid_data_gen, callbacks=[elst,save_ck],epochs = 20)"
      ]
    }
  ],
  "metadata": {
    "colab": {
      "provenance": [],
      "mount_file_id": "18RPnm5ZGKAbLo96JzD8hy0LNWyJJU7s9",
      "authorship_tag": "ABX9TyN2TIr5A4VxU4cB3hBA4ay9",
      "include_colab_link": true
    },
    "kernelspec": {
      "display_name": "Python 3",
      "name": "python3"
    },
    "language_info": {
      "name": "python"
    }
  },
  "nbformat": 4,
  "nbformat_minor": 0
}