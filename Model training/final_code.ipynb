{
  "cells": [
    {
      "cell_type": "code",
      "execution_count": null,
      "metadata": {
        "id": "LD2OKuXGu623"
      },
      "outputs": [],
      "source": [
        "!pip install tensorflow keras-tuner opencv-python matplotlib"
      ]
    },
    {
      "cell_type": "code",
      "execution_count": null,
      "metadata": {
        "id": "oxDYRDa8vMeV"
      },
      "outputs": [],
      "source": [
        "import tensorflow as tf\n",
        "import os\n",
        "import pickle"
      ]
    },
    {
      "cell_type": "code",
      "execution_count": null,
      "metadata": {
        "id": "uJbRXkvdvagB"
      },
      "outputs": [],
      "source": [
        "!pip install kaggle"
      ]
    },
    {
      "cell_type": "code",
      "execution_count": null,
      "metadata": {
        "colab": {
          "base_uri": "https://localhost:8080/"
        },
        "id": "dgLl_Y_Avdue",
        "outputId": "77d113c1-1939-434c-e42f-343cde4b1308"
      },
      "outputs": [
        {
          "name": "stdout",
          "output_type": "stream",
          "text": [
            "Mounted at /content/drive\n"
          ]
        }
      ],
      "source": [
        "from google.colab import drive\n",
        "drive.mount('/content/drive')"
      ]
    },
    {
      "cell_type": "code",
      "execution_count": null,
      "metadata": {
        "id": "Qf08vxx9vgQc"
      },
      "outputs": [],
      "source": [
        "! mkdir ~/.kaggle\n",
        "!cp /content/drive/MyDrive/Model_Training/kaggle_API_Authorisation_creds/kaggle.json ~/.kaggle/kaggle.json\n",
        "! chmod 600 ~/.kaggle/kaggle.json"
      ]
    },
    {
      "cell_type": "code",
      "execution_count": null,
      "metadata": {
        "id": "6JC0U99xvk8k"
      },
      "outputs": [],
      "source": [
        "!kaggle datasets download -d iamsouravbanerjee/indian-food-images-dataset"
      ]
    },
    {
      "cell_type": "code",
      "execution_count": null,
      "metadata": {
        "id": "4N8bc2MkWQ_o"
      },
      "outputs": [],
      "source": [
        "! unzip indian-food-images-dataset.zip -d indian-food-images-dataset"
      ]
    },
    {
      "cell_type": "code",
      "execution_count": null,
      "metadata": {
        "id": "hpSPej2CWRyr"
      },
      "outputs": [],
      "source": [
        "import numpy as np\n",
        "from matplotlib import pyplot as plt"
      ]
    },
    {
      "cell_type": "code",
      "execution_count": null,
      "metadata": {
        "id": "e2kWqs60WR_c"
      },
      "outputs": [],
      "source": [
        "DATA_PATH = 'indian-food-images-dataset/Indian Food Images/Indian Food Images'\n",
        "BATCH_SIZE = 32\n",
        "IMG_HEIGHT, IMG_WIDTH = 224, 224\n",
        "IMG_SIZE = (IMG_HEIGHT, IMG_WIDTH, 3)\n",
        "\n",
        "train_data = tf.keras.utils.image_dataset_from_directory(\n",
        "    DATA_PATH,\n",
        "    label_mode='categorical',\n",
        "    color_mode='rgb',\n",
        "    validation_split=0.2,\n",
        "    subset=\"training\",\n",
        "    seed=42,\n",
        "    shuffle=True,\n",
        "    image_size=(IMG_HEIGHT, IMG_WIDTH),\n",
        "    batch_size=BATCH_SIZE\n",
        "    )\n",
        "\n",
        "val_data = tf.keras.utils.image_dataset_from_directory(\n",
        "    DATA_PATH,\n",
        "    label_mode='categorical',\n",
        "    color_mode='rgb',\n",
        "    validation_split=0.2,\n",
        "    subset=\"validation\",\n",
        "    seed=42,\n",
        "    shuffle=False,\n",
        "    image_size=(IMG_HEIGHT, IMG_WIDTH),\n",
        "    batch_size=BATCH_SIZE\n",
        "    )\n",
        "\n",
        "class_names = train_data.class_names\n",
        "\n",
        "# optimize\n",
        "train_data = train_data.prefetch(tf.data.AUTOTUNE)\n",
        "val_data = val_data.prefetch(tf.data.AUTOTUNE)"
      ]
    },
    {
      "cell_type": "code",
      "execution_count": null,
      "metadata": {
        "id": "ZZ7r1-ciWchW"
      },
      "outputs": [],
      "source": [
        "from tensorflow import keras\n",
        "from keras.applications import ResNet50V2, VGG19, InceptionV3\n",
        "\n",
        "base_model = ResNet50V2(\n",
        "    include_top=False, # Exclude ImageNet classifier at the top\n",
        "    weights='imagenet',\n",
        "    input_shape=IMG_SIZE\n",
        "    )"
      ]
    },
    {
      "cell_type": "code",
      "execution_count": null,
      "metadata": {
        "id": "Ucy2kJh2Wesl"
      },
      "outputs": [],
      "source": [
        "# Freeze the base_model\n",
        "base_model.trainable = False"
      ]
    },
    {
      "cell_type": "code",
      "execution_count": null,
      "metadata": {},
      "outputs": [],
      "source": [
        "from tensorflow.keras.layers import RandomFlip, RandomRotation, RandomTranslation, RandomContrast\n",
        "\n",
        "data_augmentation = keras.Sequential(\n",
        "    [RandomFlip('horizontal'), \n",
        "     RandomRotation(factor=(-0.025, 0.025)),\n",
        "     RandomTranslation(height_factor=0.1, width_factor=0.1),\n",
        "     RandomContrast(factor=0.1)\n",
        "     ])"
      ]
    },
    {
      "cell_type": "code",
      "execution_count": null,
      "metadata": {},
      "outputs": [],
      "source": [
        "# Create new model on top\n",
        "inputs = keras.Input(shape=IMG_SIZE)\n",
        "x = data_augmentation(inputs)\n",
        "\n",
        "x = keras.applications.resnet_v2.preprocess_input(x)\n",
        "x = base_model(x, training=False)"
      ]
    },
    {
      "cell_type": "code",
      "execution_count": null,
      "metadata": {},
      "outputs": [],
      "source": [
        "from tensorflow.keras.layers import GlobalAveragePooling2D, BatchNormalization, Dropout, Flatten, Dense\n",
        "\n",
        "# Rebuild top layers\n",
        "x = GlobalAveragePooling2D()(x)\n",
        "x = BatchNormalization()(x)\n",
        "x = Dropout(0.2)(x)  # Regularize with dropout\n",
        "\n",
        "outputs = Dense(len(class_names), activation=\"softmax\", name=\"pred\")(x)\n",
        "\n",
        "cooksmart_model = keras.Model(inputs, outputs)"
      ]
    },
    {
      "cell_type": "code",
      "execution_count": null,
      "metadata": {},
      "outputs": [],
      "source": [
        "cooksmart_model.summary()"
      ]
    },
    {
      "cell_type": "code",
      "execution_count": null,
      "metadata": {},
      "outputs": [],
      "source": [
        "from tensorflow.keras.metrics import *\n",
        "from tensorflow.keras.callbacks import EarlyStopping\n",
        "from tensorflow.keras.optimizers import Adam\n",
        "from tensorflow.keras.losses import CategoricalCrossentropy\n",
        "\n",
        "metrics = [CategoricalAccuracy(), Precision(), Recall()]\n",
        "\n",
        "cooksmart_model.compile(\n",
        "    loss = CategoricalCrossentropy(),\n",
        "    optimizer = Adam(learning_rate=0.001),\n",
        "    metrics = metrics\n",
        "    )\n",
        "\n",
        "es = EarlyStopping(patience=6, monitor='val_loss', mode='min', restore_best_weights=True)"
      ]
    },
    {
      "cell_type": "code",
      "execution_count": null,
      "metadata": {},
      "outputs": [],
      "source": [
        "cooksmart_history = cooksmart_model.fit(\n",
        "      train_data, \n",
        "      epochs=25, \n",
        "      validation_data=val_data,\n",
        "      callbacks=[es],\n",
        "      verbose=1\n",
        "      )"
      ]
    },
    {
      "cell_type": "code",
      "execution_count": null,
      "metadata": {},
      "outputs": [],
      "source": [
        "cooksmart_model.save('resnet-model-23-02-21.h5')"
      ]
    },
    {
      "cell_type": "code",
      "execution_count": null,
      "metadata": {},
      "outputs": [],
      "source": [
        "pickle.dump(cooksmart_model,open('cooksmartmodel.pkl','wb'))"
      ]
    },
    {
      "cell_type": "code",
      "execution_count": null,
      "metadata": {},
      "outputs": [],
      "source": [
        "pickle_model = pickle.load(open('cooksmartmodel.pkl','rb'))"
      ]
    },
    {
      "cell_type": "code",
      "execution_count": null,
      "metadata": {},
      "outputs": [],
      "source": [
        "FOOD_CLASSES = {x:y for x,y in enumerate(class_names)}\n",
        "MODEL_DIR = '/content/resnet-model-23-02-21.h5'\n",
        "MODEL = keras.models.load_model(MODEL_DIR)\n",
        "\n",
        "def predict_image_class(img_path:str) -> str:\n",
        "  img = keras.preprocessing.image.load_img(img_path, target_size=IMG_SIZE)\n",
        "  img_array = keras.preprocessing.image.img_to_array(img)\n",
        "  img_array = tf.expand_dims(img_array, 0)  # Create batch axis\n",
        "\n",
        "  predictions = MODEL.predict(img_array)\n",
        "\n",
        "  return FOOD_CLASSES[predictions.argmax(axis=1)[0]]"
      ]
    },
    {
      "cell_type": "code",
      "execution_count": null,
      "metadata": {},
      "outputs": [],
      "source": [
        "TEST_IMG_DIR = \"/content/manasi/abc.jfif\"\n",
        "print(f\"Prediction - {predict_image_class(TEST_IMG_DIR)}\")"
      ]
    },
    {
      "cell_type": "code",
      "execution_count": null,
      "metadata": {},
      "outputs": [],
      "source": [
        "from google.colab import files\n",
        "files.download('/content/resnet-model-23-02-21.h5')"
      ]
    },
    {
      "cell_type": "markdown",
      "metadata": {
        "id": "mSeBPtvKbkn2"
      },
      "source": []
    }
  ],
  "metadata": {
    "accelerator": "GPU",
    "colab": {
      "provenance": []
    },
    "gpuClass": "standard",
    "kernelspec": {
      "display_name": "Python 3",
      "name": "python3"
    },
    "language_info": {
      "name": "python"
    }
  },
  "nbformat": 4,
  "nbformat_minor": 0
}
