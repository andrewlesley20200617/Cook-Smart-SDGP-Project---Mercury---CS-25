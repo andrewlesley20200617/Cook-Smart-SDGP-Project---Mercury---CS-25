{
  "nbformat": 4,
  "nbformat_minor": 0,
  "metadata": {
    "colab": {
      "provenance": []
    },
    "kernelspec": {
      "name": "python3",
      "display_name": "Python 3"
    },
    "language_info": {
      "name": "python"
    },
    "accelerator": "GPU",
    "gpuClass": "standard"
  },
  "cells": [
    {
      "cell_type": "code",
      "execution_count": null,
      "metadata": {
        "id": "LD2OKuXGu623"
      },
      "outputs": [],
      "source": [
        "!pip install tensorflow keras-tuner opencv-python matplotlib"
      ]
    },
    {
      "cell_type": "code",
      "source": [
        "import tensorflow as tf\n",
        "import os\n",
        "import pickle"
      ],
      "metadata": {
        "id": "oxDYRDa8vMeV"
      },
      "execution_count": null,
      "outputs": []
    },
    {
      "cell_type": "code",
      "source": [
        "!pip install kaggle"
      ],
      "metadata": {
        "id": "uJbRXkvdvagB"
      },
      "execution_count": null,
      "outputs": []
    },
    {
      "cell_type": "code",
      "source": [
        "from google.colab import drive\n",
        "drive.mount('/content/drive')"
      ],
      "metadata": {
        "id": "dgLl_Y_Avdue",
        "colab": {
          "base_uri": "https://localhost:8080/"
        },
        "outputId": "77d113c1-1939-434c-e42f-343cde4b1308"
      },
      "execution_count": null,
      "outputs": [
        {
          "output_type": "stream",
          "name": "stdout",
          "text": [
            "Mounted at /content/drive\n"
          ]
        }
      ]
    },
    {
      "cell_type": "code",
      "source": [
        "! mkdir ~/.kaggle\n",
        "!cp /content/drive/MyDrive/Model_Training/kaggle_API_Authorisation_creds/kaggle.json ~/.kaggle/kaggle.json\n",
        "! chmod 600 ~/.kaggle/kaggle.json"
      ],
      "metadata": {
        "id": "Qf08vxx9vgQc"
      },
      "execution_count": null,
      "outputs": []
    },
    {
      "cell_type": "code",
      "source": [
        "!kaggle datasets download -d iamsouravbanerjee/indian-food-images-dataset"
      ],
      "metadata": {
        "id": "6JC0U99xvk8k"
      },
      "execution_count": null,
      "outputs": []
    },
    {
      "cell_type": "code",
      "source": [
        "! unzip indian-food-images-dataset.zip -d indian-food-images-dataset"
      ],
      "metadata": {
        "id": "4N8bc2MkWQ_o"
      },
      "execution_count": null,
      "outputs": []
    },
    {
      "cell_type": "code",
      "source": [
        "import numpy as np\n",
        "from matplotlib import pyplot as plt"
      ],
      "metadata": {
        "id": "hpSPej2CWRyr"
      },
      "execution_count": null,
      "outputs": []
    },
    {
      "cell_type": "code",
      "source": [
        "DATA_PATH = 'indian-food-images-dataset/Indian Food Images/Indian Food Images'\n",
        "BATCH_SIZE = 32\n",
        "IMG_HEIGHT, IMG_WIDTH = 224, 224\n",
        "IMG_SIZE = (IMG_HEIGHT, IMG_WIDTH, 3)\n",
        "\n",
        "train_data = tf.keras.utils.image_dataset_from_directory(\n",
        "    DATA_PATH,\n",
        "    label_mode='categorical',\n",
        "    color_mode='rgb',\n",
        "    validation_split=0.2,\n",
        "    subset=\"training\",\n",
        "    seed=42,\n",
        "    shuffle=True,\n",
        "    image_size=(IMG_HEIGHT, IMG_WIDTH),\n",
        "    batch_size=BATCH_SIZE\n",
        "    )\n",
        "\n",
        "val_data = tf.keras.utils.image_dataset_from_directory(\n",
        "    DATA_PATH,\n",
        "    label_mode='categorical',\n",
        "    color_mode='rgb',\n",
        "    validation_split=0.2,\n",
        "    subset=\"validation\",\n",
        "    seed=42,\n",
        "    shuffle=False,\n",
        "    image_size=(IMG_HEIGHT, IMG_WIDTH),\n",
        "    batch_size=BATCH_SIZE\n",
        "    )\n",
        "\n",
        "class_names = train_data.class_names\n",
        "\n",
        "# optimize\n",
        "train_data = train_data.prefetch(tf.data.AUTOTUNE)\n",
        "val_data = val_data.prefetch(tf.data.AUTOTUNE)"
      ],
      "metadata": {
        "id": "e2kWqs60WR_c"
      },
      "execution_count": null,
      "outputs": []
    },
    {
      "cell_type": "code",
      "source": [
        "from tensorflow import keras\n",
        "from keras.applications import ResNet50V2, VGG19, InceptionV3\n",
        "\n",
        "base_model = ResNet50V2(\n",
        "    include_top=False, # Exclude ImageNet classifier at the top\n",
        "    weights='imagenet',\n",
        "    input_shape=IMG_SIZE\n",
        "    )"
      ],
      "metadata": {
        "id": "ZZ7r1-ciWchW"
      },
      "execution_count": null,
      "outputs": []
    },
    {
      "cell_type": "code",
      "source": [
        "# Freeze the base_model\n",
        "base_model.trainable = False"
      ],
      "metadata": {
        "id": "Ucy2kJh2Wesl"
      },
      "execution_count": null,
      "outputs": []
    },
    {
      "cell_type": "markdown",
      "source": [],
      "metadata": {
        "id": "mSeBPtvKbkn2"
      }
    }
  ]
}